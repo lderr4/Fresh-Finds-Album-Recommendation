{
 "cells": [
  {
   "cell_type": "code",
   "execution_count": 2,
   "id": "ac469987",
   "metadata": {},
   "outputs": [
    {
     "name": "stdout",
     "output_type": "stream",
     "text": [
      "Collecting lightfm\n",
      "  Downloading lightfm-1.17.tar.gz (316 kB)\n",
      "\u001b[2K     \u001b[90m━━━━━━━━━━━━━━━━━━━━━━━━━━━━━━━━━━━━━━━\u001b[0m \u001b[32m316.4/316.4 kB\u001b[0m \u001b[31m3.6 MB/s\u001b[0m eta \u001b[36m0:00:00\u001b[0ma \u001b[36m0:00:01\u001b[0m\n",
      "\u001b[?25h  Preparing metadata (setup.py) ... \u001b[?25ldone\n",
      "\u001b[?25hRequirement already satisfied: numpy in /Users/lucasderr/opt/anaconda3/lib/python3.9/site-packages (from lightfm) (1.26.2)\n",
      "Requirement already satisfied: scipy>=0.17.0 in /Users/lucasderr/opt/anaconda3/lib/python3.9/site-packages (from lightfm) (1.9.1)\n",
      "Requirement already satisfied: requests in /Users/lucasderr/opt/anaconda3/lib/python3.9/site-packages (from lightfm) (2.28.1)\n",
      "Requirement already satisfied: scikit-learn in /Users/lucasderr/opt/anaconda3/lib/python3.9/site-packages (from lightfm) (1.3.1)\n",
      "Collecting numpy\n",
      "  Downloading numpy-1.24.4-cp39-cp39-macosx_10_9_x86_64.whl (19.8 MB)\n",
      "\u001b[2K     \u001b[90m━━━━━━━━━━━━━━━━━━━━━━━━━━━━━━━━━━━━━━━━\u001b[0m \u001b[32m19.8/19.8 MB\u001b[0m \u001b[31m22.7 MB/s\u001b[0m eta \u001b[36m0:00:00\u001b[0m00:01\u001b[0m00:01\u001b[0m\n",
      "\u001b[?25hRequirement already satisfied: urllib3<1.27,>=1.21.1 in /Users/lucasderr/opt/anaconda3/lib/python3.9/site-packages (from requests->lightfm) (1.26.11)\n",
      "Requirement already satisfied: certifi>=2017.4.17 in /Users/lucasderr/opt/anaconda3/lib/python3.9/site-packages (from requests->lightfm) (2022.9.24)\n",
      "Requirement already satisfied: charset-normalizer<3,>=2 in /Users/lucasderr/opt/anaconda3/lib/python3.9/site-packages (from requests->lightfm) (2.0.4)\n",
      "Requirement already satisfied: idna<4,>=2.5 in /Users/lucasderr/opt/anaconda3/lib/python3.9/site-packages (from requests->lightfm) (2.10)\n",
      "Requirement already satisfied: threadpoolctl>=2.0.0 in /Users/lucasderr/opt/anaconda3/lib/python3.9/site-packages (from scikit-learn->lightfm) (3.1.0)\n",
      "Requirement already satisfied: joblib>=1.1.1 in /Users/lucasderr/opt/anaconda3/lib/python3.9/site-packages (from scikit-learn->lightfm) (1.3.2)\n",
      "Building wheels for collected packages: lightfm\n",
      "  Building wheel for lightfm (setup.py) ... \u001b[?25ldone\n",
      "\u001b[?25h  Created wheel for lightfm: filename=lightfm-1.17-cp39-cp39-macosx_10_9_x86_64.whl size=425339 sha256=66ee23c3b95238976602e5af7272e296b21105865cae87c598ccbc4f5e4aacab\n",
      "  Stored in directory: /Users/lucasderr/Library/Caches/pip/wheels/d8/65/93/6ac8180274dc2e8f86ff326be62da1dfa55dc158fd45faba7d\n",
      "Successfully built lightfm\n",
      "Installing collected packages: numpy, lightfm\n",
      "  Attempting uninstall: numpy\n",
      "    Found existing installation: numpy 1.26.2\n",
      "    Uninstalling numpy-1.26.2:\n",
      "      Successfully uninstalled numpy-1.26.2\n",
      "\u001b[31mERROR: pip's dependency resolver does not currently take into account all the packages that are installed. This behaviour is the source of the following dependency conflicts.\n",
      "daal4py 2021.6.0 requires daal==2021.4.0, which is not installed.\n",
      "tensorflow 2.12.0 requires numpy<1.24,>=1.22, but you have numpy 1.24.4 which is incompatible.\n",
      "scispacy 0.5.2 requires spacy<3.5.0,>=3.4.0, but you have spacy 3.0.9 which is incompatible.\n",
      "lenskit 0.14.2 requires numba<0.57,>=0.51, but you have numba 0.58.1 which is incompatible.\n",
      "karateclub 1.3.3 requires numpy<1.23.0, but you have numpy 1.24.4 which is incompatible.\n",
      "karateclub 1.3.3 requires pandas<=1.3.5, but you have pandas 1.5.3 which is incompatible.\n",
      "en-core-web-sm 3.4.1 requires spacy<3.5.0,>=3.4.0, but you have spacy 3.0.9 which is incompatible.\n",
      "en-core-med7-lg 3.4.2.1 requires spacy<3.5.0,>=3.4.2, but you have spacy 3.0.9 which is incompatible.\u001b[0m\u001b[31m\n",
      "\u001b[0mSuccessfully installed lightfm-1.17 numpy-1.24.4\n"
     ]
    },
    {
     "name": "stderr",
     "output_type": "stream",
     "text": [
      "/Users/lucasderr/opt/anaconda3/lib/python3.9/site-packages/lightfm/_lightfm_fast.py:9: UserWarning: LightFM was compiled without OpenMP support. Only a single thread will be used.\n",
      "  warnings.warn(\n"
     ]
    },
    {
     "name": "stdout",
     "output_type": "stream",
     "text": [
      "module https://tfhub.dev/google/universal-sentence-encoder/4 loaded\n"
     ]
    }
   ],
   "source": [
    "!pip install lightfm\n",
    "import tensorflow as tf\n",
    "import tensorflow_hub as hub\n",
    "import numpy as np\n",
    "import pandas as pd\n",
    "from lightfm import LightFM\n",
    "from lightfm.data import Dataset\n",
    "\n",
    "module_url = \"https://tfhub.dev/google/universal-sentence-encoder/4\" #@param [\"https://tfhub.dev/google/universal-sentence-encoder/4\", \"https://tfhub.dev/google/universal-sentence-encoder-large/5\"]\n",
    "sent_model = hub.load(module_url)\n",
    "print (f\"module {module_url} loaded\")"
   ]
  },
  {
   "cell_type": "code",
   "execution_count": null,
   "id": "fb88c3da",
   "metadata": {},
   "outputs": [],
   "source": [
    "'''\n",
    "https://medium.com/@r.kosse/building-a-embedding-recommender-system-with-python-and-lightfm-e18b3df16e88\n",
    "'''"
   ]
  }
 ],
 "metadata": {
  "kernelspec": {
   "display_name": "Python 3 (ipykernel)",
   "language": "python",
   "name": "python3"
  },
  "language_info": {
   "codemirror_mode": {
    "name": "ipython",
    "version": 3
   },
   "file_extension": ".py",
   "mimetype": "text/x-python",
   "name": "python",
   "nbconvert_exporter": "python",
   "pygments_lexer": "ipython3",
   "version": "3.9.13"
  }
 },
 "nbformat": 4,
 "nbformat_minor": 5
}
