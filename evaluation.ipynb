{
 "cells": [
  {
   "cell_type": "code",
   "execution_count": 1,
   "id": "3c51272b",
   "metadata": {},
   "outputs": [],
   "source": [
    "import pandas as pd\n",
    "import matplotlib.pyplot as plt\n",
    "import seaborn as sns\n",
    "from lenskit.algorithms import Recommender, als, item_knn as knn\n",
    "from lenskit.topn import RecListAnalysis, ndcg, precision\n",
    "from lenskit.metrics.predict import rmse\n",
    "from lenskit import crossfold as xf, batch, topn, util"
   ]
  },
  {
   "cell_type": "code",
   "execution_count": 2,
   "id": "722e8de4",
   "metadata": {},
   "outputs": [
    {
     "data": {
      "text/plain": [
       "263525"
      ]
     },
     "execution_count": 2,
     "metadata": {},
     "output_type": "execute_result"
    }
   ],
   "source": [
    "\n",
    "reviews = pd.read_json(\"mard/mard_reviews.json\" , lines=True)\n",
    "# want to convert to form: user | item | rating | timestamp\n",
    "reviews=reviews.drop(['helpful', 'reviewText', 'summary','reviewTime', 'reviewerName'],axis=1)\n",
    "reviews=reviews[[\"reviewerID\", 'amazon-id', \"overall\" ,\"unixReviewTime\"]]\n",
    "\n",
    "\n",
    "new_column_names = {'reviewerID': 'user', 'amazon-id': 'item', 'overall': 'rating', \"unixReviewTime\": \"timestamp\"}\n",
    "reviews.rename(columns=new_column_names, inplace=True)\n",
    "len(reviews)"
   ]
  },
  {
   "cell_type": "code",
   "execution_count": 3,
   "id": "9f9d63de",
   "metadata": {},
   "outputs": [],
   "source": [
    "\n",
    "\n",
    "# wrapper class for lenskit evaluation\n",
    "class evaluator():\n",
    "    \n",
    "    \n",
    "    def __init__(self):\n",
    "        self.rec_list = RecListAnalysis()\n",
    "        self.rec_list.add_metric(ndcg, name=\"ndcg_10\", k=10)\n",
    "        self.rec_list.add_metric(rmse, name=\"rmse\")\n",
    "        self.rec_list.add_metric(precision, name=\"precision_10\",k=10)\n",
    "        #self.rec_list.add_metric()\n",
    "        \n",
    "        \n",
    "    \n",
    "    def add_metric(self, metric_function):\n",
    "        pass\n",
    "        \n",
    "        \n",
    "    \n",
    "        \n",
    "    def evaluate(self, recs, truth):\n",
    "        '''\n",
    "        recs: prediction df\n",
    "        truth: ground truth test data\n",
    "        '''\n",
    "        pass\n",
    "    \n",
    "    \n",
    "    \n",
    "ev = evaluator()\n",
    "        "
   ]
  },
  {
   "cell_type": "code",
   "execution_count": 4,
   "id": "8ac9b73b",
   "metadata": {},
   "outputs": [],
   "source": [
    "def evaluate(aname, algo, train, test):\n",
    "    fittable = util.clone(algo)\n",
    "    fittable = Recommender.adapt(fittable)\n",
    "    fittable.fit(train)\n",
    "    users = test.user.unique()\n",
    "    recs = batch.recommend(fittable, users, 100)\n",
    "    recs['Algorithm'] = aname\n",
    "    return recs"
   ]
  },
  {
   "cell_type": "code",
   "execution_count": null,
   "id": "2a3d29a2",
   "metadata": {},
   "outputs": [
    {
     "name": "stdout",
     "output_type": "stream",
     "text": [
      "Partitioning Data into 5 Folds...\n"
     ]
    }
   ],
   "source": [
    "print(\"Partitioning Data into 5 Folds...\")\n",
    "parts = xf.partition_users(reviews[['user', 'item', 'rating']], 5, xf.SampleFrac(0.2))\n",
    "\n",
    "for i, (train, test) in enumerate(parts):\n",
    "    train.to_parquet(f\"mard_train-{i}.parquet\")\n",
    "    test.to_parquet(f\"mard_test-{i}.parquet\")\n",
    "    \n"
   ]
  },
  {
   "cell_type": "code",
   "execution_count": null,
   "id": "69f06d22",
   "metadata": {},
   "outputs": [],
   "source": [
    "algo_ii = knn.ItemItem(20)\n",
    "all_recs = []\n",
    "test_data = []\n",
    "\n",
    "for i in range(5):\n",
    "    trainset = pd.read_parquet(f\"mard_train-{i}.parquet\")\n",
    "    testset = pd.read_parquet(f\"mard_test-{i}.parquet\")\n",
    "    \n",
    "    \n",
    "    test_data.append(testset)\n",
    "    all_recs.append(evaluate('ItemItem', algo_ii, trainset, testset))"
   ]
  },
  {
   "cell_type": "code",
   "execution_count": null,
   "id": "f7c3abdc",
   "metadata": {},
   "outputs": [],
   "source": []
  }
 ],
 "metadata": {
  "kernelspec": {
   "display_name": "Python 3 (ipykernel)",
   "language": "python",
   "name": "python3"
  },
  "language_info": {
   "codemirror_mode": {
    "name": "ipython",
    "version": 3
   },
   "file_extension": ".py",
   "mimetype": "text/x-python",
   "name": "python",
   "nbconvert_exporter": "python",
   "pygments_lexer": "ipython3",
   "version": "3.9.13"
  }
 },
 "nbformat": 4,
 "nbformat_minor": 5
}
