{
 "cells": [
  {
   "cell_type": "code",
   "execution_count": 1,
   "id": "81d03b01",
   "metadata": {},
   "outputs": [],
   "source": [
    "import pandas as pd\n",
    "import matplotlib.pyplot as plt\n",
    "import seaborn as sns\n",
    "from lenskit.algorithms import Recommender, als, item_knn as knn\n",
    "from lenskit.topn import RecListAnalysis, ndcg, precision\n",
    "from lenskit.metrics.predict import rmse\n",
    "from lenskit import crossfold as xf, batch, topn, util\n",
    "import numpy as np\n",
    "from lenskit.algorithms.basic import Random\n",
    "from collections import defaultdict\n",
    "import pickle"
   ]
  },
  {
   "cell_type": "code",
   "execution_count": 3,
   "id": "c86046ec",
   "metadata": {},
   "outputs": [],
   "source": [
    "def load_entropy_table():\n",
    "    with open('entropy_table.pkl', 'rb') as f:\n",
    "        return pickle.load(f)"
   ]
  },
  {
   "cell_type": "code",
   "execution_count": 4,
   "id": "1761c51e",
   "metadata": {},
   "outputs": [],
   "source": [
    "trainset = pd.read_parquet(f\"mard_train-0.parquet\")\n",
    "testset = pd.read_parquet(f\"mard_test-0.parquet\")\n",
    "\n",
    "entropy_table = load_entropy_table()"
   ]
  },
  {
   "cell_type": "code",
   "execution_count": 9,
   "id": "4c9526d8",
   "metadata": {},
   "outputs": [],
   "source": [
    "def get_test_recs(aname, algo, train, test):\n",
    "    '''\n",
    "    Fit and generate test recommendations for algo object with name aname\n",
    "    '''\n",
    "    print(f\"Fitting {aname}\")\n",
    "    fittable = util.clone(algo)\n",
    "    fittable = Recommender.adapt(fittable)\n",
    "    fittable.fit(train)\n",
    "    print(f\"{aname} Fitted\")\n",
    "    users = test.user.unique()\n",
    "    recs = batch.recommend(algo=fittable, users=users, n=50)\n",
    "    recs['Algorithm'] = aname\n",
    "    return recs\n",
    "\n",
    "def novelty(preds, truth, k, entropy_table):\n",
    "    \n",
    "\n",
    "    #convert df into dictionairy to improve performance\n",
    "    return np.mean([entropy_table[item] for item in preds['item']])\n"
   ]
  },
  {
   "cell_type": "code",
   "execution_count": 10,
   "id": "21155e73",
   "metadata": {},
   "outputs": [],
   "source": [
    "rla = RecListAnalysis()\n",
    "rla.add_metric(ndcg, name=\"ndcg_50\", k=50)\n",
    "rla.add_metric(precision, name=\"precision_50\",k=50)\n",
    "rla.add_metric(novelty, name=\"novelty_50\", k=50, entropy_table=entropy_table)"
   ]
  },
  {
   "cell_type": "code",
   "execution_count": 11,
   "id": "e00887e5",
   "metadata": {},
   "outputs": [],
   "source": [
    "def get_scores(results, metric_names):\n",
    "    scores = {}\n",
    "    for name in metric_names:\n",
    "        scores[name] = np.mean(results[name])\n",
    "        \n",
    "    return scores"
   ]
  },
  {
   "cell_type": "code",
   "execution_count": 13,
   "id": "af843a65",
   "metadata": {
    "scrolled": false
   },
   "outputs": [
    {
     "name": "stdout",
     "output_type": "stream",
     "text": [
      "features=30\n",
      "generating recs...\n",
      "Fitting biasedmf\n",
      "biasedmf Fitted\n"
     ]
    },
    {
     "name": "stderr",
     "output_type": "stream",
     "text": [
      "2023-12-08 12:57:25.399159: I tensorflow/core/platform/cpu_feature_guard.cc:182] This TensorFlow binary is optimized to use available CPU instructions in performance-critical operations.\n",
      "To enable the following instructions: AVX2 FMA, in other operations, rebuild TensorFlow with the appropriate compiler flags.\n",
      "2023-12-08 12:57:25.399149: I tensorflow/core/platform/cpu_feature_guard.cc:182] This TensorFlow binary is optimized to use available CPU instructions in performance-critical operations.\n",
      "To enable the following instructions: AVX2 FMA, in other operations, rebuild TensorFlow with the appropriate compiler flags.\n",
      "2023-12-08 12:57:25.399159: I tensorflow/core/platform/cpu_feature_guard.cc:182] This TensorFlow binary is optimized to use available CPU instructions in performance-critical operations.\n",
      "To enable the following instructions: AVX2 FMA, in other operations, rebuild TensorFlow with the appropriate compiler flags.\n",
      "2023-12-08 12:57:25.399334: I tensorflow/core/platform/cpu_feature_guard.cc:182] This TensorFlow binary is optimized to use available CPU instructions in performance-critical operations.\n",
      "To enable the following instructions: AVX2 FMA, in other operations, rebuild TensorFlow with the appropriate compiler flags.\n",
      "truth index not unique: may have duplicate items\n",
      "                      rating\n",
      "LKTruthID item              \n",
      "0         B000059O8H       5\n",
      "1         B00007M8R2       5\n",
      "2         B00008BRD2       5\n",
      "          B000008UDN       5\n",
      "3         B00925T99W       2\n",
      "...                      ...\n",
      "1975      B0000039Q3       5\n",
      "1976      B0000025SB       5\n",
      "1977      B00005NF46       4\n",
      "          B000006CE7       5\n",
      "1978      B0000C1YZI       3\n",
      "\n",
      "[3130 rows x 1 columns]\n"
     ]
    },
    {
     "name": "stdout",
     "output_type": "stream",
     "text": [
      "evaluating\n",
      "{'ndcg_50': 0.0018223862241779673, 'precision_50': 0.0001616978271854472, 'novelty_50': 0.0018860005749103599}\n",
      "features=50\n",
      "generating recs...\n",
      "Fitting biasedmf\n",
      "biasedmf Fitted\n"
     ]
    },
    {
     "name": "stderr",
     "output_type": "stream",
     "text": [
      "2023-12-08 12:58:32.843725: I tensorflow/core/platform/cpu_feature_guard.cc:182] This TensorFlow binary is optimized to use available CPU instructions in performance-critical operations.\n",
      "To enable the following instructions: AVX2 FMA, in other operations, rebuild TensorFlow with the appropriate compiler flags.\n",
      "2023-12-08 12:58:32.847198: I tensorflow/core/platform/cpu_feature_guard.cc:182] This TensorFlow binary is optimized to use available CPU instructions in performance-critical operations.\n",
      "To enable the following instructions: AVX2 FMA, in other operations, rebuild TensorFlow with the appropriate compiler flags.\n",
      "2023-12-08 12:58:32.855025: I tensorflow/core/platform/cpu_feature_guard.cc:182] This TensorFlow binary is optimized to use available CPU instructions in performance-critical operations.\n",
      "To enable the following instructions: AVX2 FMA, in other operations, rebuild TensorFlow with the appropriate compiler flags.\n",
      "2023-12-08 12:58:33.025405: I tensorflow/core/platform/cpu_feature_guard.cc:182] This TensorFlow binary is optimized to use available CPU instructions in performance-critical operations.\n",
      "To enable the following instructions: AVX2 FMA, in other operations, rebuild TensorFlow with the appropriate compiler flags.\n",
      "truth index not unique: may have duplicate items\n",
      "                      rating\n",
      "LKTruthID item              \n",
      "0         B000059O8H       5\n",
      "1         B00007M8R2       5\n",
      "2         B00008BRD2       5\n",
      "          B000008UDN       5\n",
      "3         B00925T99W       2\n",
      "...                      ...\n",
      "1975      B0000039Q3       5\n",
      "1976      B0000025SB       5\n",
      "1977      B00005NF46       4\n",
      "          B000006CE7       5\n",
      "1978      B0000C1YZI       3\n",
      "\n",
      "[3130 rows x 1 columns]\n"
     ]
    },
    {
     "name": "stdout",
     "output_type": "stream",
     "text": [
      "evaluating\n",
      "{'ndcg_50': 0.0029020436562934124, 'precision_50': 0.00019201616978271855, 'novelty_50': 0.0019384780947329613}\n",
      "features=70\n",
      "generating recs...\n",
      "Fitting biasedmf\n",
      "biasedmf Fitted\n"
     ]
    },
    {
     "name": "stderr",
     "output_type": "stream",
     "text": [
      "2023-12-08 12:59:47.559169: I tensorflow/core/platform/cpu_feature_guard.cc:182] This TensorFlow binary is optimized to use available CPU instructions in performance-critical operations.\n",
      "To enable the following instructions: AVX2 FMA, in other operations, rebuild TensorFlow with the appropriate compiler flags.\n",
      "2023-12-08 12:59:47.559168: I tensorflow/core/platform/cpu_feature_guard.cc:182] This TensorFlow binary is optimized to use available CPU instructions in performance-critical operations.\n",
      "To enable the following instructions: AVX2 FMA, in other operations, rebuild TensorFlow with the appropriate compiler flags.\n",
      "2023-12-08 12:59:47.559168: I tensorflow/core/platform/cpu_feature_guard.cc:182] This TensorFlow binary is optimized to use available CPU instructions in performance-critical operations.\n",
      "To enable the following instructions: AVX2 FMA, in other operations, rebuild TensorFlow with the appropriate compiler flags.\n",
      "2023-12-08 12:59:47.781345: I tensorflow/core/platform/cpu_feature_guard.cc:182] This TensorFlow binary is optimized to use available CPU instructions in performance-critical operations.\n",
      "To enable the following instructions: AVX2 FMA, in other operations, rebuild TensorFlow with the appropriate compiler flags.\n",
      "truth index not unique: may have duplicate items\n",
      "                      rating\n",
      "LKTruthID item              \n",
      "0         B000059O8H       5\n",
      "1         B00007M8R2       5\n",
      "2         B00008BRD2       5\n",
      "          B000008UDN       5\n",
      "3         B00925T99W       2\n",
      "...                      ...\n",
      "1975      B0000039Q3       5\n",
      "1976      B0000025SB       5\n",
      "1977      B00005NF46       4\n",
      "          B000006CE7       5\n",
      "1978      B0000C1YZI       3\n",
      "\n",
      "[3130 rows x 1 columns]\n"
     ]
    },
    {
     "name": "stdout",
     "output_type": "stream",
     "text": [
      "evaluating\n",
      "{'ndcg_50': 0.003418953733341272, 'precision_50': 0.00019201616978271855, 'novelty_50': 0.0019376186574762311}\n",
      "features=90\n",
      "generating recs...\n",
      "Fitting biasedmf\n",
      "biasedmf Fitted\n"
     ]
    },
    {
     "name": "stderr",
     "output_type": "stream",
     "text": [
      "2023-12-08 13:01:41.529278: I tensorflow/core/platform/cpu_feature_guard.cc:182] This TensorFlow binary is optimized to use available CPU instructions in performance-critical operations.\n",
      "To enable the following instructions: AVX2 FMA, in other operations, rebuild TensorFlow with the appropriate compiler flags.\n",
      "2023-12-08 13:01:41.529277: I tensorflow/core/platform/cpu_feature_guard.cc:182] This TensorFlow binary is optimized to use available CPU instructions in performance-critical operations.\n",
      "To enable the following instructions: AVX2 FMA, in other operations, rebuild TensorFlow with the appropriate compiler flags.\n",
      "2023-12-08 13:01:41.529277: I tensorflow/core/platform/cpu_feature_guard.cc:182] This TensorFlow binary is optimized to use available CPU instructions in performance-critical operations.\n",
      "To enable the following instructions: AVX2 FMA, in other operations, rebuild TensorFlow with the appropriate compiler flags.\n",
      "2023-12-08 13:01:41.529277: I tensorflow/core/platform/cpu_feature_guard.cc:182] This TensorFlow binary is optimized to use available CPU instructions in performance-critical operations.\n",
      "To enable the following instructions: AVX2 FMA, in other operations, rebuild TensorFlow with the appropriate compiler flags.\n",
      "truth index not unique: may have duplicate items\n",
      "                      rating\n",
      "LKTruthID item              \n",
      "0         B000059O8H       5\n",
      "1         B00007M8R2       5\n",
      "2         B00008BRD2       5\n",
      "          B000008UDN       5\n",
      "3         B00925T99W       2\n",
      "...                      ...\n",
      "1975      B0000039Q3       5\n",
      "1976      B0000025SB       5\n",
      "1977      B00005NF46       4\n",
      "          B000006CE7       5\n",
      "1978      B0000C1YZI       3\n",
      "\n",
      "[3130 rows x 1 columns]\n"
     ]
    },
    {
     "name": "stdout",
     "output_type": "stream",
     "text": [
      "evaluating\n",
      "{'ndcg_50': 0.0038565514934061043, 'precision_50': 0.0002223345123799899, 'novelty_50': 0.00193857924929994}\n",
      "features=110\n",
      "generating recs...\n",
      "Fitting biasedmf\n",
      "biasedmf Fitted\n"
     ]
    },
    {
     "name": "stderr",
     "output_type": "stream",
     "text": [
      "2023-12-08 13:03:32.374142: I tensorflow/core/platform/cpu_feature_guard.cc:182] This TensorFlow binary is optimized to use available CPU instructions in performance-critical operations.\n",
      "To enable the following instructions: AVX2 FMA, in other operations, rebuild TensorFlow with the appropriate compiler flags.\n",
      "2023-12-08 13:03:32.374154: I tensorflow/core/platform/cpu_feature_guard.cc:182] This TensorFlow binary is optimized to use available CPU instructions in performance-critical operations.\n",
      "To enable the following instructions: AVX2 FMA, in other operations, rebuild TensorFlow with the appropriate compiler flags.\n",
      "2023-12-08 13:03:32.374440: I tensorflow/core/platform/cpu_feature_guard.cc:182] This TensorFlow binary is optimized to use available CPU instructions in performance-critical operations.\n",
      "To enable the following instructions: AVX2 FMA, in other operations, rebuild TensorFlow with the appropriate compiler flags.\n",
      "2023-12-08 13:03:32.374470: I tensorflow/core/platform/cpu_feature_guard.cc:182] This TensorFlow binary is optimized to use available CPU instructions in performance-critical operations.\n",
      "To enable the following instructions: AVX2 FMA, in other operations, rebuild TensorFlow with the appropriate compiler flags.\n",
      "truth index not unique: may have duplicate items\n",
      "                      rating\n",
      "LKTruthID item              \n",
      "0         B000059O8H       5\n",
      "1         B00007M8R2       5\n",
      "2         B00008BRD2       5\n",
      "          B000008UDN       5\n",
      "3         B00925T99W       2\n",
      "...                      ...\n",
      "1975      B0000039Q3       5\n",
      "1976      B0000025SB       5\n",
      "1977      B00005NF46       4\n",
      "          B000006CE7       5\n",
      "1978      B0000C1YZI       3\n",
      "\n",
      "[3130 rows x 1 columns]\n"
     ]
    },
    {
     "name": "stdout",
     "output_type": "stream",
     "text": [
      "evaluating\n",
      "{'ndcg_50': 0.0031351155006240144, 'precision_50': 0.00017180394138453762, 'novelty_50': 0.001942476926277287}\n",
      "features=150\n",
      "generating recs...\n",
      "Fitting biasedmf\n",
      "biasedmf Fitted\n"
     ]
    },
    {
     "name": "stderr",
     "output_type": "stream",
     "text": [
      "2023-12-08 13:05:32.757836: I tensorflow/core/platform/cpu_feature_guard.cc:182] This TensorFlow binary is optimized to use available CPU instructions in performance-critical operations.\n",
      "To enable the following instructions: AVX2 FMA, in other operations, rebuild TensorFlow with the appropriate compiler flags.\n",
      "2023-12-08 13:05:32.767176: I tensorflow/core/platform/cpu_feature_guard.cc:182] This TensorFlow binary is optimized to use available CPU instructions in performance-critical operations.\n",
      "To enable the following instructions: AVX2 FMA, in other operations, rebuild TensorFlow with the appropriate compiler flags.\n",
      "2023-12-08 13:05:32.793433: I tensorflow/core/platform/cpu_feature_guard.cc:182] This TensorFlow binary is optimized to use available CPU instructions in performance-critical operations.\n",
      "To enable the following instructions: AVX2 FMA, in other operations, rebuild TensorFlow with the appropriate compiler flags.\n",
      "2023-12-08 13:05:32.831499: I tensorflow/core/platform/cpu_feature_guard.cc:182] This TensorFlow binary is optimized to use available CPU instructions in performance-critical operations.\n",
      "To enable the following instructions: AVX2 FMA, in other operations, rebuild TensorFlow with the appropriate compiler flags.\n",
      "truth index not unique: may have duplicate items\n",
      "                      rating\n",
      "LKTruthID item              \n",
      "0         B000059O8H       5\n",
      "1         B00007M8R2       5\n",
      "2         B00008BRD2       5\n",
      "          B000008UDN       5\n",
      "3         B00925T99W       2\n",
      "...                      ...\n",
      "1975      B0000039Q3       5\n",
      "1976      B0000025SB       5\n",
      "1977      B00005NF46       4\n",
      "          B000006CE7       5\n",
      "1978      B0000C1YZI       3\n",
      "\n",
      "[3130 rows x 1 columns]\n"
     ]
    },
    {
     "name": "stdout",
     "output_type": "stream",
     "text": [
      "evaluating\n",
      "{'ndcg_50': 0.0034175191501355042, 'precision_50': 0.00022233451237998992, 'novelty_50': 0.0019271254769341615}\n",
      "features=200\n",
      "generating recs...\n",
      "Fitting biasedmf\n",
      "biasedmf Fitted\n"
     ]
    },
    {
     "name": "stderr",
     "output_type": "stream",
     "text": [
      "2023-12-08 13:07:53.748803: I tensorflow/core/platform/cpu_feature_guard.cc:182] This TensorFlow binary is optimized to use available CPU instructions in performance-critical operations.\n",
      "To enable the following instructions: AVX2 FMA, in other operations, rebuild TensorFlow with the appropriate compiler flags.\n",
      "2023-12-08 13:07:53.748791: I tensorflow/core/platform/cpu_feature_guard.cc:182] This TensorFlow binary is optimized to use available CPU instructions in performance-critical operations.\n",
      "To enable the following instructions: AVX2 FMA, in other operations, rebuild TensorFlow with the appropriate compiler flags.\n",
      "2023-12-08 13:07:53.748803: I tensorflow/core/platform/cpu_feature_guard.cc:182] This TensorFlow binary is optimized to use available CPU instructions in performance-critical operations.\n",
      "To enable the following instructions: AVX2 FMA, in other operations, rebuild TensorFlow with the appropriate compiler flags.\n",
      "2023-12-08 13:07:53.748805: I tensorflow/core/platform/cpu_feature_guard.cc:182] This TensorFlow binary is optimized to use available CPU instructions in performance-critical operations.\n",
      "To enable the following instructions: AVX2 FMA, in other operations, rebuild TensorFlow with the appropriate compiler flags.\n",
      "truth index not unique: may have duplicate items\n",
      "                      rating\n",
      "LKTruthID item              \n",
      "0         B000059O8H       5\n",
      "1         B00007M8R2       5\n",
      "2         B00008BRD2       5\n",
      "          B000008UDN       5\n",
      "3         B00925T99W       2\n",
      "...                      ...\n",
      "1975      B0000039Q3       5\n",
      "1976      B0000025SB       5\n",
      "1977      B00005NF46       4\n",
      "          B000006CE7       5\n",
      "1978      B0000C1YZI       3\n",
      "\n",
      "[3130 rows x 1 columns]\n"
     ]
    },
    {
     "name": "stdout",
     "output_type": "stream",
     "text": [
      "evaluating\n",
      "{'ndcg_50': 0.0032781030514743787, 'precision_50': 0.00020212228398180902, 'novelty_50': 0.0019006150788893827}\n",
      "features=300\n",
      "generating recs...\n",
      "Fitting biasedmf\n",
      "biasedmf Fitted\n"
     ]
    },
    {
     "name": "stderr",
     "output_type": "stream",
     "text": [
      "2023-12-08 13:10:53.816372: I tensorflow/core/platform/cpu_feature_guard.cc:182] This TensorFlow binary is optimized to use available CPU instructions in performance-critical operations.\n",
      "To enable the following instructions: AVX2 FMA, in other operations, rebuild TensorFlow with the appropriate compiler flags.\n",
      "2023-12-08 13:10:53.816497: I tensorflow/core/platform/cpu_feature_guard.cc:182] This TensorFlow binary is optimized to use available CPU instructions in performance-critical operations.\n",
      "To enable the following instructions: AVX2 FMA, in other operations, rebuild TensorFlow with the appropriate compiler flags.\n",
      "2023-12-08 13:10:53.816819: I tensorflow/core/platform/cpu_feature_guard.cc:182] This TensorFlow binary is optimized to use available CPU instructions in performance-critical operations.\n",
      "To enable the following instructions: AVX2 FMA, in other operations, rebuild TensorFlow with the appropriate compiler flags.\n",
      "2023-12-08 13:10:53.817093: I tensorflow/core/platform/cpu_feature_guard.cc:182] This TensorFlow binary is optimized to use available CPU instructions in performance-critical operations.\n",
      "To enable the following instructions: AVX2 FMA, in other operations, rebuild TensorFlow with the appropriate compiler flags.\n",
      "truth index not unique: may have duplicate items\n",
      "                      rating\n",
      "LKTruthID item              \n",
      "0         B000059O8H       5\n",
      "1         B00007M8R2       5\n",
      "2         B00008BRD2       5\n",
      "          B000008UDN       5\n",
      "3         B00925T99W       2\n",
      "...                      ...\n",
      "1975      B0000039Q3       5\n",
      "1976      B0000025SB       5\n",
      "1977      B00005NF46       4\n",
      "          B000006CE7       5\n",
      "1978      B0000C1YZI       3\n",
      "\n",
      "[3130 rows x 1 columns]\n"
     ]
    },
    {
     "name": "stdout",
     "output_type": "stream",
     "text": [
      "evaluating\n",
      "{'ndcg_50': 0.003125748534549966, 'precision_50': 0.00018191005558362808, 'novelty_50': 0.001881592707271077}\n"
     ]
    }
   ],
   "source": [
    "\n",
    "metric_names = [\"ndcg_50\", \"precision_50\", \"novelty_50\"]\n",
    "features = [30, 50, 70, 90, 110, 150, 200, 300]\n",
    "\n",
    "all_results = []\n",
    "all_scores = []\n",
    "\n",
    "for f in features:\n",
    "    print(f\"features={f}\")\n",
    "    algo = als.BiasedMF(features=f)\n",
    "    print(\"generating recs...\")\n",
    "    test_recs = get_test_recs('biasedmf', algo, trainset, testset)\n",
    "\n",
    "    print(\"evaluating\")\n",
    "    results = rla.compute(test_recs, testset)\n",
    "    scores = get_scores(results, metric_names)\n",
    "    \n",
    "    all_results.append(results)\n",
    "    all_scores.append(scores)\n",
    "    \n",
    "    print(scores)\n",
    "    \n",
    "    \n",
    "    "
   ]
  },
  {
   "cell_type": "code",
   "execution_count": 16,
   "id": "a0847891",
   "metadata": {},
   "outputs": [
    {
     "data": {
      "text/html": [
       "<div>\n",
       "<style scoped>\n",
       "    .dataframe tbody tr th:only-of-type {\n",
       "        vertical-align: middle;\n",
       "    }\n",
       "\n",
       "    .dataframe tbody tr th {\n",
       "        vertical-align: top;\n",
       "    }\n",
       "\n",
       "    .dataframe thead th {\n",
       "        text-align: right;\n",
       "    }\n",
       "</style>\n",
       "<table border=\"1\" class=\"dataframe\">\n",
       "  <thead>\n",
       "    <tr style=\"text-align: right;\">\n",
       "      <th></th>\n",
       "      <th>ndcg_50</th>\n",
       "      <th>precision_50</th>\n",
       "      <th>novelty_50</th>\n",
       "      <th>Number of Factors</th>\n",
       "    </tr>\n",
       "  </thead>\n",
       "  <tbody>\n",
       "    <tr>\n",
       "      <th>0</th>\n",
       "      <td>0.001822</td>\n",
       "      <td>0.000162</td>\n",
       "      <td>0.001886</td>\n",
       "      <td>30</td>\n",
       "    </tr>\n",
       "    <tr>\n",
       "      <th>1</th>\n",
       "      <td>0.002902</td>\n",
       "      <td>0.000192</td>\n",
       "      <td>0.001938</td>\n",
       "      <td>50</td>\n",
       "    </tr>\n",
       "    <tr>\n",
       "      <th>2</th>\n",
       "      <td>0.003419</td>\n",
       "      <td>0.000192</td>\n",
       "      <td>0.001938</td>\n",
       "      <td>70</td>\n",
       "    </tr>\n",
       "    <tr>\n",
       "      <th>3</th>\n",
       "      <td>0.003857</td>\n",
       "      <td>0.000222</td>\n",
       "      <td>0.001939</td>\n",
       "      <td>90</td>\n",
       "    </tr>\n",
       "    <tr>\n",
       "      <th>4</th>\n",
       "      <td>0.003135</td>\n",
       "      <td>0.000172</td>\n",
       "      <td>0.001942</td>\n",
       "      <td>110</td>\n",
       "    </tr>\n",
       "    <tr>\n",
       "      <th>5</th>\n",
       "      <td>0.003418</td>\n",
       "      <td>0.000222</td>\n",
       "      <td>0.001927</td>\n",
       "      <td>150</td>\n",
       "    </tr>\n",
       "    <tr>\n",
       "      <th>6</th>\n",
       "      <td>0.003278</td>\n",
       "      <td>0.000202</td>\n",
       "      <td>0.001901</td>\n",
       "      <td>200</td>\n",
       "    </tr>\n",
       "    <tr>\n",
       "      <th>7</th>\n",
       "      <td>0.003126</td>\n",
       "      <td>0.000182</td>\n",
       "      <td>0.001882</td>\n",
       "      <td>300</td>\n",
       "    </tr>\n",
       "  </tbody>\n",
       "</table>\n",
       "</div>"
      ],
      "text/plain": [
       "    ndcg_50  precision_50  novelty_50  Number of Factors\n",
       "0  0.001822      0.000162    0.001886                 30\n",
       "1  0.002902      0.000192    0.001938                 50\n",
       "2  0.003419      0.000192    0.001938                 70\n",
       "3  0.003857      0.000222    0.001939                 90\n",
       "4  0.003135      0.000172    0.001942                110\n",
       "5  0.003418      0.000222    0.001927                150\n",
       "6  0.003278      0.000202    0.001901                200\n",
       "7  0.003126      0.000182    0.001882                300"
      ]
     },
     "execution_count": 16,
     "metadata": {},
     "output_type": "execute_result"
    }
   ],
   "source": [
    "scores_df = pd.DataFrame(all_scores)\n",
    "scores_df['Number of Factors'] = features\n",
    "scores_df"
   ]
  },
  {
   "cell_type": "code",
   "execution_count": 36,
   "id": "d7d6281d",
   "metadata": {},
   "outputs": [
    {
     "data": {
      "image/png": "[encoded data removed]",
      "text/plain": [
       "<Figure size 640x480 with 1 Axes>"
      ]
     },
     "metadata": {},
     "output_type": "display_data"
    }
   ],
   "source": [
    "sns.lineplot(x=\"Number of Factors\", y=\"ndcg_50\", marker=\"o\", data=scores_df)\n",
    "plt.title(\"NDCG with Lenskit BiasedMF Model\")\n",
    "plt.ylim(0, max(scores_df['ndcg_50']) + 0.001)\n",
    "plt.savefig('plots/biasedmf_ndcg.png')"
   ]
  },
  {
   "cell_type": "code",
   "execution_count": 37,
   "id": "10616915",
   "metadata": {},
   "outputs": [
    {
     "data": {
      "image/png": "[encoded data removed]",
      "text/plain": [
       "<Figure size 640x480 with 1 Axes>"
      ]
     },
     "metadata": {},
     "output_type": "display_data"
    }
   ],
   "source": [
    "sns.lineplot(x=\"Number of Factors\", y=\"precision_50\", marker=\"o\", data=scores_df)\n",
    "plt.title(\"Precision with Lenskit BiasedMF Model\")\n",
    "plt.ylim(0, max(scores_df['precision_50']) + 0.0001)\n",
    "\n",
    "plt.savefig('plots/biasedmf_precision.png')"
   ]
  },
  {
   "cell_type": "code",
   "execution_count": 38,
   "id": "5c96d54f",
   "metadata": {},
   "outputs": [
    {
     "data": {
      "image/png": "[encoded data removed]",
      "text/plain": [
       "<Figure size 640x480 with 1 Axes>"
      ]
     },
     "metadata": {},
     "output_type": "display_data"
    }
   ],
   "source": [
    "sns.lineplot(x=\"Number of Factors\", y=\"novelty_50\", marker=\"o\", data=scores_df)\n",
    "plt.title(\"Novelty with Lenskit BiasedMF Model\")\n",
    "plt.ylim(0, max(scores_df['novelty_50']) + 0.001)\n",
    "plt.savefig('plots/biasedmf_novelty.png')"
   ]
  },
  {
   "cell_type": "code",
   "execution_count": null,
   "id": "40a43948",
   "metadata": {},
   "outputs": [],
   "source": []
  }
 ],
 "metadata": {
  "kernelspec": {
   "display_name": "Python 3 (ipykernel)",
   "language": "python",
   "name": "python3"
  },
  "language_info": {
   "codemirror_mode": {
    "name": "ipython",
    "version": 3
   },
   "file_extension": ".py",
   "mimetype": "text/x-python",
   "name": "python",
   "nbconvert_exporter": "python",
   "pygments_lexer": "ipython3",
   "version": "3.9.13"
  }
 },
 "nbformat": 4,
 "nbformat_minor": 5
}
