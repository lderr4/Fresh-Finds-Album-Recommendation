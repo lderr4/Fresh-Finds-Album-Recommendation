{
 "cells": [
  {
   "cell_type": "code",
   "execution_count": null,
   "id": "ff4e35b2",
   "metadata": {},
   "outputs": [],
   "source": [
    "import pandas as pd\n"
   ]
  },
  {
   "cell_type": "code",
   "execution_count": null,
   "id": "a2c5b689",
   "metadata": {
    "scrolled": true
   },
   "outputs": [],
   "source": [
    "df = pd.read_json(\"mard_reviews.json\" , lines=True)"
   ]
  },
  {
   "cell_type": "code",
   "execution_count": null,
   "id": "cb1ca64f",
   "metadata": {},
   "outputs": [],
   "source": [
    "df.head()"
   ]
  },
  {
   "cell_type": "code",
   "execution_count": null,
   "id": "38520470",
   "metadata": {},
   "outputs": [],
   "source": [
    "numUsers = len(pd.unique(df['reviewerID']))\n",
    "numAlbums = len(pd.unique(df['amazon-id']))\n",
    "numReviews = len(df)\n",
    "\n",
    "print(\"Number of Users:\" , numUsers)\n",
    "print(\"Number of Albums:\", numAlbums)\n",
    "print(\"Number of Reviews:\", numReviews)\n",
    "\n"
   ]
  },
  {
   "cell_type": "code",
   "execution_count": null,
   "id": "06d98fe1",
   "metadata": {},
   "outputs": [],
   "source": []
  }
 ],
 "metadata": {
  "kernelspec": {
   "display_name": "Python 3 (ipykernel)",
   "language": "python",
   "name": "python3"
  },
  "language_info": {
   "codemirror_mode": {
    "name": "ipython",
    "version": 3
   },
   "file_extension": ".py",
   "mimetype": "text/x-python",
   "name": "python",
   "nbconvert_exporter": "python",
   "pygments_lexer": "ipython3",
   "version": "3.9.13"
  }
 },
 "nbformat": 4,
 "nbformat_minor": 5
}
