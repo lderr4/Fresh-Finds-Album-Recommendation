{
 "cells": [
  {
   "cell_type": "code",
   "execution_count": 1,
   "id": "ff4e35b2",
   "metadata": {},
   "outputs": [],
   "source": [
    "import pandas as pd\n"
   ]
  },
  {
   "cell_type": "code",
   "execution_count": null,
   "id": "72bca440",
   "metadata": {},
   "outputs": [],
   "source": [
    "import urllib.request\n",
    "urllib.request.urlretrieve(import urllib.request\n",
    "urllib.request.urlretrieve(\"http://www.example.com/songs/mp3.mp3\", \"mp3.mp3\"), \"mp3.mp3\")"
   ]
  },
  {
   "cell_type": "code",
   "execution_count": 3,
   "id": "a2c5b689",
   "metadata": {
    "scrolled": true
   },
   "outputs": [],
   "source": [
    "df = pd.read_json(\"mard_reviews.json\" , lines=True)"
   ]
  },
  {
   "cell_type": "code",
   "execution_count": 10,
   "id": "cb1ca64f",
   "metadata": {},
   "outputs": [
    {
     "data": {
      "text/html": [
       "<div>\n",
       "<style scoped>\n",
       "    .dataframe tbody tr th:only-of-type {\n",
       "        vertical-align: middle;\n",
       "    }\n",
       "\n",
       "    .dataframe tbody tr th {\n",
       "        vertical-align: top;\n",
       "    }\n",
       "\n",
       "    .dataframe thead th {\n",
       "        text-align: right;\n",
       "    }\n",
       "</style>\n",
       "<table border=\"1\" class=\"dataframe\">\n",
       "  <thead>\n",
       "    <tr style=\"text-align: right;\">\n",
       "      <th></th>\n",
       "      <th>reviewerID</th>\n",
       "      <th>amazon-id</th>\n",
       "      <th>reviewerName</th>\n",
       "      <th>helpful</th>\n",
       "      <th>unixReviewTime</th>\n",
       "      <th>reviewText</th>\n",
       "      <th>overall</th>\n",
       "      <th>reviewTime</th>\n",
       "      <th>summary</th>\n",
       "    </tr>\n",
       "  </thead>\n",
       "  <tbody>\n",
       "    <tr>\n",
       "      <th>0</th>\n",
       "      <td>A1OFY4ATO7D13W</td>\n",
       "      <td>0026197898</td>\n",
       "      <td>Jacob Shepich \"Neo-Luddite\"</td>\n",
       "      <td>[2, 2]</td>\n",
       "      <td>1355702400</td>\n",
       "      <td>Buy this album. Now.  Don't worry about the re...</td>\n",
       "      <td>5</td>\n",
       "      <td>12 17, 2012</td>\n",
       "      <td>PITCHFORK Eat your heart out!</td>\n",
       "    </tr>\n",
       "    <tr>\n",
       "      <th>1</th>\n",
       "      <td>A2KH83L1F70QR8</td>\n",
       "      <td>0026197898</td>\n",
       "      <td>John Stockton \"JLS\"</td>\n",
       "      <td>[1, 1]</td>\n",
       "      <td>1358121600</td>\n",
       "      <td>The Sudden Passion did a great job with this o...</td>\n",
       "      <td>5</td>\n",
       "      <td>01 14, 2013</td>\n",
       "      <td>Americana from the Southlands</td>\n",
       "    </tr>\n",
       "    <tr>\n",
       "      <th>2</th>\n",
       "      <td>A1KGXC7IRLVJR3</td>\n",
       "      <td>0615205399</td>\n",
       "      <td>Amy Elizabeth \"Amy\"</td>\n",
       "      <td>[0, 0]</td>\n",
       "      <td>1214438400</td>\n",
       "      <td>I received this CD as a gift a few weeks ago f...</td>\n",
       "      <td>5</td>\n",
       "      <td>06 26, 2008</td>\n",
       "      <td>It really works!</td>\n",
       "    </tr>\n",
       "    <tr>\n",
       "      <th>3</th>\n",
       "      <td>A1BT6LQ9NY6RO3</td>\n",
       "      <td>0615205399</td>\n",
       "      <td>Jasa Swaze \"Jasa Swaze\"</td>\n",
       "      <td>[1, 1]</td>\n",
       "      <td>1214352000</td>\n",
       "      <td>I am a beginner and have tried a couple of med...</td>\n",
       "      <td>5</td>\n",
       "      <td>06 25, 2008</td>\n",
       "      <td>Change Your LIfe for the Better!</td>\n",
       "    </tr>\n",
       "    <tr>\n",
       "      <th>4</th>\n",
       "      <td>A206OKO2FE2IPL</td>\n",
       "      <td>0615205399</td>\n",
       "      <td>J. Jenson</td>\n",
       "      <td>[1, 1]</td>\n",
       "      <td>1229212800</td>\n",
       "      <td>This is coming from a person that didn't belie...</td>\n",
       "      <td>5</td>\n",
       "      <td>12 14, 2008</td>\n",
       "      <td>Mediation couldn't get any easier</td>\n",
       "    </tr>\n",
       "  </tbody>\n",
       "</table>\n",
       "</div>"
      ],
      "text/plain": [
       "       reviewerID   amazon-id                 reviewerName helpful  \\\n",
       "0  A1OFY4ATO7D13W  0026197898  Jacob Shepich \"Neo-Luddite\"  [2, 2]   \n",
       "1  A2KH83L1F70QR8  0026197898          John Stockton \"JLS\"  [1, 1]   \n",
       "2  A1KGXC7IRLVJR3  0615205399          Amy Elizabeth \"Amy\"  [0, 0]   \n",
       "3  A1BT6LQ9NY6RO3  0615205399      Jasa Swaze \"Jasa Swaze\"  [1, 1]   \n",
       "4  A206OKO2FE2IPL  0615205399                    J. Jenson  [1, 1]   \n",
       "\n",
       "   unixReviewTime                                         reviewText  overall  \\\n",
       "0      1355702400  Buy this album. Now.  Don't worry about the re...        5   \n",
       "1      1358121600  The Sudden Passion did a great job with this o...        5   \n",
       "2      1214438400  I received this CD as a gift a few weeks ago f...        5   \n",
       "3      1214352000  I am a beginner and have tried a couple of med...        5   \n",
       "4      1229212800  This is coming from a person that didn't belie...        5   \n",
       "\n",
       "    reviewTime                            summary  \n",
       "0  12 17, 2012      PITCHFORK Eat your heart out!  \n",
       "1  01 14, 2013      Americana from the Southlands  \n",
       "2  06 26, 2008                   It really works!  \n",
       "3  06 25, 2008   Change Your LIfe for the Better!  \n",
       "4  12 14, 2008  Mediation couldn't get any easier  "
      ]
     },
     "execution_count": 10,
     "metadata": {},
     "output_type": "execute_result"
    }
   ],
   "source": [
    "df.head()"
   ]
  },
  {
   "cell_type": "code",
   "execution_count": 15,
   "id": "38520470",
   "metadata": {},
   "outputs": [
    {
     "name": "stdout",
     "output_type": "stream",
     "text": [
      "Number of Users: 187090\n",
      "Number of Albums: 64637\n",
      "Number of Reviews: 263525\n"
     ]
    }
   ],
   "source": [
    "numUsers = len(pd.unique(df['reviewerID']))\n",
    "numAlbums = len(pd.unique(df['amazon-id']))\n",
    "numReviews = len(df)\n",
    "\n",
    "print(\"Number of Users:\" , numUsers)\n",
    "print(\"Number of Albums:\", numAlbums)\n",
    "print(\"Number of Reviews:\", numReviews)\n",
    "\n"
   ]
  },
  {
   "cell_type": "code",
   "execution_count": null,
   "id": "06d98fe1",
   "metadata": {},
   "outputs": [],
   "source": []
  }
 ],
 "metadata": {
  "kernelspec": {
   "display_name": "Python 3 (ipykernel)",
   "language": "python",
   "name": "python3"
  },
  "language_info": {
   "codemirror_mode": {
    "name": "ipython",
    "version": 3
   },
   "file_extension": ".py",
   "mimetype": "text/x-python",
   "name": "python",
   "nbconvert_exporter": "python",
   "pygments_lexer": "ipython3",
   "version": "3.9.13"
  }
 },
 "nbformat": 4,
 "nbformat_minor": 5
}
